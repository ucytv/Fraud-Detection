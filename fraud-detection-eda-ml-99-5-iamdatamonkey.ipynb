{
 "cells": [
  {
   "cell_type": "markdown",
   "id": "712f4769",
   "metadata": {
    "papermill": {
     "duration": 0.028605,
     "end_time": "2021-08-10T18:53:13.496390",
     "exception": false,
     "start_time": "2021-08-10T18:53:13.467785",
     "status": "completed"
    },
    "tags": []
   },
   "source": [
    "# Table of Contents\n",
    "1. [Import Library](#1)\n",
    "1. [Load Data](#2)\n",
    "1. [Data Analysis](#3)\n",
    "    * [Missing Value](#4)\n",
    "    * [Distribution](#5)\n",
    "1. [Feature Engineering](#6)\n",
    "    * [Analyzing](#7)\n",
    "    * [Feature Extraction](#8)\n",
    "1. [Modelling](#9)\n",
    "    * [Scaling](#10)\n",
    "    * [Parameters](#11)\n",
    "    * [Classifiers](#12)\n",
    "    * [Grid Search Cross Validation and K-Fold](#13)\n",
    "    * [Visualization](#14)\n",
    "    * [Prediction](#15)\n",
    "\n",
    "\n"
   ]
  },
  {
   "cell_type": "markdown",
   "id": "6f8df24b",
   "metadata": {
    "papermill": {
     "duration": 0.027653,
     "end_time": "2021-08-10T18:53:13.551846",
     "exception": false,
     "start_time": "2021-08-10T18:53:13.524193",
     "status": "completed"
    },
    "tags": []
   },
   "source": [
    "<a id='1'></a>\n",
    "# Import Library"
   ]
  },
  {
   "cell_type": "code",
   "execution_count": 1,
   "id": "b727483f",
   "metadata": {
    "execution": {
     "iopub.execute_input": "2021-08-10T18:53:13.619396Z",
     "iopub.status.busy": "2021-08-10T18:53:13.618661Z",
     "iopub.status.idle": "2021-08-10T18:53:14.628594Z",
     "shell.execute_reply": "2021-08-10T18:53:14.627486Z",
     "shell.execute_reply.started": "2021-08-10T17:51:24.698188Z"
    },
    "papermill": {
     "duration": 1.049358,
     "end_time": "2021-08-10T18:53:14.628791",
     "exception": false,
     "start_time": "2021-08-10T18:53:13.579433",
     "status": "completed"
    },
    "tags": []
   },
   "outputs": [],
   "source": [
    "import numpy as np # linear algebra\n",
    "import pandas as pd # data processing, CSV file I/O (e.g. pd.read_csv)\n",
    "import missingno\n",
    "import matplotlib.pyplot as plt\n",
    "import seaborn as sns\n",
    "\n",
    "import sys\n",
    "\n",
    "if not sys.warnoptions:\n",
    "    import warnings\n",
    "    warnings.simplefilter(\"ignore\")"
   ]
  },
  {
   "cell_type": "markdown",
   "id": "85af5ffc",
   "metadata": {
    "papermill": {
     "duration": 0.027233,
     "end_time": "2021-08-10T18:53:14.684338",
     "exception": false,
     "start_time": "2021-08-10T18:53:14.657105",
     "status": "completed"
    },
    "tags": []
   },
   "source": [
    "<a id='2'></a>\n",
    "# Load Data"
   ]
  },
  {
   "cell_type": "code",
   "execution_count": 2,
   "id": "907e78e6",
   "metadata": {
    "execution": {
     "iopub.execute_input": "2021-08-10T18:53:14.744258Z",
     "iopub.status.busy": "2021-08-10T18:53:14.743584Z",
     "iopub.status.idle": "2021-08-10T18:53:15.022837Z",
     "shell.execute_reply": "2021-08-10T18:53:15.022295Z",
     "shell.execute_reply.started": "2021-08-10T17:51:24.708671Z"
    },
    "papermill": {
     "duration": 0.311016,
     "end_time": "2021-08-10T18:53:15.023006",
     "exception": false,
     "start_time": "2021-08-10T18:53:14.711990",
     "status": "completed"
    },
    "tags": []
   },
   "outputs": [],
   "source": [
    "source = '/kaggle/input/fraud-detection-bank-dataset-20k-records-binary/fraud_detection_bank_dataset.csv'\n",
    "data = pd.read_csv(source)"
   ]
  },
  {
   "cell_type": "markdown",
   "id": "cdb79dd6",
   "metadata": {
    "papermill": {
     "duration": 0.028036,
     "end_time": "2021-08-10T18:53:15.079055",
     "exception": false,
     "start_time": "2021-08-10T18:53:15.051019",
     "status": "completed"
    },
    "tags": []
   },
   "source": [
    "<a id='3'></a>\n",
    "# Data Analysis"
   ]
  },
  {
   "cell_type": "code",
   "execution_count": 3,
   "id": "f220300f",
   "metadata": {
    "execution": {
     "iopub.execute_input": "2021-08-10T18:53:15.142216Z",
     "iopub.status.busy": "2021-08-10T18:53:15.141363Z",
     "iopub.status.idle": "2021-08-10T18:53:15.144717Z",
     "shell.execute_reply": "2021-08-10T18:53:15.145206Z",
     "shell.execute_reply.started": "2021-08-10T17:51:24.972947Z"
    },
    "papermill": {
     "duration": 0.038845,
     "end_time": "2021-08-10T18:53:15.145373",
     "exception": false,
     "start_time": "2021-08-10T18:53:15.106528",
     "status": "completed"
    },
    "tags": []
   },
   "outputs": [
    {
     "data": {
      "text/plain": [
       "Index(['Unnamed: 0', 'col_0', 'col_1', 'col_2', 'col_3', 'col_4', 'col_5',\n",
       "       'col_6', 'col_7', 'col_8',\n",
       "       ...\n",
       "       'col_103', 'col_104', 'col_105', 'col_106', 'col_107', 'col_108',\n",
       "       'col_109', 'col_110', 'col_111', 'targets'],\n",
       "      dtype='object', length=114)"
      ]
     },
     "execution_count": 3,
     "metadata": {},
     "output_type": "execute_result"
    }
   ],
   "source": [
    "data.columns"
   ]
  },
  {
   "cell_type": "code",
   "execution_count": 4,
   "id": "2bdcdb6b",
   "metadata": {
    "execution": {
     "iopub.execute_input": "2021-08-10T18:53:15.206715Z",
     "iopub.status.busy": "2021-08-10T18:53:15.206068Z",
     "iopub.status.idle": "2021-08-10T18:53:15.239907Z",
     "shell.execute_reply": "2021-08-10T18:53:15.239340Z",
     "shell.execute_reply.started": "2021-08-10T17:51:24.985504Z"
    },
    "papermill": {
     "duration": 0.065113,
     "end_time": "2021-08-10T18:53:15.240058",
     "exception": false,
     "start_time": "2021-08-10T18:53:15.174945",
     "status": "completed"
    },
    "tags": []
   },
   "outputs": [
    {
     "data": {
      "text/html": [
       "<div>\n",
       "<style scoped>\n",
       "    .dataframe tbody tr th:only-of-type {\n",
       "        vertical-align: middle;\n",
       "    }\n",
       "\n",
       "    .dataframe tbody tr th {\n",
       "        vertical-align: top;\n",
       "    }\n",
       "\n",
       "    .dataframe thead th {\n",
       "        text-align: right;\n",
       "    }\n",
       "</style>\n",
       "<table border=\"1\" class=\"dataframe\">\n",
       "  <thead>\n",
       "    <tr style=\"text-align: right;\">\n",
       "      <th></th>\n",
       "      <th>Unnamed: 0</th>\n",
       "      <th>col_0</th>\n",
       "      <th>col_1</th>\n",
       "      <th>col_2</th>\n",
       "      <th>col_3</th>\n",
       "      <th>col_4</th>\n",
       "      <th>col_5</th>\n",
       "      <th>col_6</th>\n",
       "      <th>col_7</th>\n",
       "      <th>col_8</th>\n",
       "      <th>...</th>\n",
       "      <th>col_103</th>\n",
       "      <th>col_104</th>\n",
       "      <th>col_105</th>\n",
       "      <th>col_106</th>\n",
       "      <th>col_107</th>\n",
       "      <th>col_108</th>\n",
       "      <th>col_109</th>\n",
       "      <th>col_110</th>\n",
       "      <th>col_111</th>\n",
       "      <th>targets</th>\n",
       "    </tr>\n",
       "  </thead>\n",
       "  <tbody>\n",
       "    <tr>\n",
       "      <th>0</th>\n",
       "      <td>0</td>\n",
       "      <td>9</td>\n",
       "      <td>1354</td>\n",
       "      <td>0</td>\n",
       "      <td>18</td>\n",
       "      <td>0</td>\n",
       "      <td>1</td>\n",
       "      <td>7</td>\n",
       "      <td>9</td>\n",
       "      <td>0</td>\n",
       "      <td>...</td>\n",
       "      <td>0</td>\n",
       "      <td>0</td>\n",
       "      <td>0</td>\n",
       "      <td>1</td>\n",
       "      <td>1</td>\n",
       "      <td>0</td>\n",
       "      <td>0</td>\n",
       "      <td>0</td>\n",
       "      <td>49</td>\n",
       "      <td>1</td>\n",
       "    </tr>\n",
       "    <tr>\n",
       "      <th>1</th>\n",
       "      <td>1</td>\n",
       "      <td>0</td>\n",
       "      <td>239</td>\n",
       "      <td>0</td>\n",
       "      <td>1</td>\n",
       "      <td>0</td>\n",
       "      <td>1</td>\n",
       "      <td>0</td>\n",
       "      <td>0</td>\n",
       "      <td>0</td>\n",
       "      <td>...</td>\n",
       "      <td>0</td>\n",
       "      <td>1</td>\n",
       "      <td>0</td>\n",
       "      <td>0</td>\n",
       "      <td>0</td>\n",
       "      <td>0</td>\n",
       "      <td>0</td>\n",
       "      <td>0</td>\n",
       "      <td>55</td>\n",
       "      <td>1</td>\n",
       "    </tr>\n",
       "    <tr>\n",
       "      <th>2</th>\n",
       "      <td>2</td>\n",
       "      <td>0</td>\n",
       "      <td>260</td>\n",
       "      <td>0</td>\n",
       "      <td>4</td>\n",
       "      <td>0</td>\n",
       "      <td>3</td>\n",
       "      <td>6</td>\n",
       "      <td>0</td>\n",
       "      <td>0</td>\n",
       "      <td>...</td>\n",
       "      <td>0</td>\n",
       "      <td>0</td>\n",
       "      <td>0</td>\n",
       "      <td>1</td>\n",
       "      <td>1</td>\n",
       "      <td>0</td>\n",
       "      <td>0</td>\n",
       "      <td>0</td>\n",
       "      <td>56</td>\n",
       "      <td>1</td>\n",
       "    </tr>\n",
       "    <tr>\n",
       "      <th>3</th>\n",
       "      <td>3</td>\n",
       "      <td>17</td>\n",
       "      <td>682</td>\n",
       "      <td>0</td>\n",
       "      <td>1</td>\n",
       "      <td>0</td>\n",
       "      <td>0</td>\n",
       "      <td>8</td>\n",
       "      <td>17</td>\n",
       "      <td>0</td>\n",
       "      <td>...</td>\n",
       "      <td>0</td>\n",
       "      <td>1</td>\n",
       "      <td>0</td>\n",
       "      <td>1</td>\n",
       "      <td>1</td>\n",
       "      <td>0</td>\n",
       "      <td>0</td>\n",
       "      <td>0</td>\n",
       "      <td>65</td>\n",
       "      <td>1</td>\n",
       "    </tr>\n",
       "    <tr>\n",
       "      <th>4</th>\n",
       "      <td>4</td>\n",
       "      <td>1</td>\n",
       "      <td>540</td>\n",
       "      <td>0</td>\n",
       "      <td>2</td>\n",
       "      <td>0</td>\n",
       "      <td>1</td>\n",
       "      <td>7</td>\n",
       "      <td>1</td>\n",
       "      <td>0</td>\n",
       "      <td>...</td>\n",
       "      <td>0</td>\n",
       "      <td>0</td>\n",
       "      <td>0</td>\n",
       "      <td>1</td>\n",
       "      <td>1</td>\n",
       "      <td>0</td>\n",
       "      <td>0</td>\n",
       "      <td>0</td>\n",
       "      <td>175</td>\n",
       "      <td>1</td>\n",
       "    </tr>\n",
       "  </tbody>\n",
       "</table>\n",
       "<p>5 rows × 114 columns</p>\n",
       "</div>"
      ],
      "text/plain": [
       "   Unnamed: 0  col_0  col_1  col_2  col_3  col_4  col_5  col_6  col_7  col_8  \\\n",
       "0           0      9   1354      0     18      0      1      7      9      0   \n",
       "1           1      0    239      0      1      0      1      0      0      0   \n",
       "2           2      0    260      0      4      0      3      6      0      0   \n",
       "3           3     17    682      0      1      0      0      8     17      0   \n",
       "4           4      1    540      0      2      0      1      7      1      0   \n",
       "\n",
       "   ...  col_103  col_104  col_105  col_106  col_107  col_108  col_109  \\\n",
       "0  ...        0        0        0        1        1        0        0   \n",
       "1  ...        0        1        0        0        0        0        0   \n",
       "2  ...        0        0        0        1        1        0        0   \n",
       "3  ...        0        1        0        1        1        0        0   \n",
       "4  ...        0        0        0        1        1        0        0   \n",
       "\n",
       "   col_110  col_111  targets  \n",
       "0        0       49        1  \n",
       "1        0       55        1  \n",
       "2        0       56        1  \n",
       "3        0       65        1  \n",
       "4        0      175        1  \n",
       "\n",
       "[5 rows x 114 columns]"
      ]
     },
     "execution_count": 4,
     "metadata": {},
     "output_type": "execute_result"
    }
   ],
   "source": [
    "data.head()"
   ]
  },
  {
   "cell_type": "code",
   "execution_count": 5,
   "id": "448888bb",
   "metadata": {
    "execution": {
     "iopub.execute_input": "2021-08-10T18:53:15.318256Z",
     "iopub.status.busy": "2021-08-10T18:53:15.315142Z",
     "iopub.status.idle": "2021-08-10T18:53:15.603277Z",
     "shell.execute_reply": "2021-08-10T18:53:15.602531Z",
     "shell.execute_reply.started": "2021-08-10T17:51:25.014532Z"
    },
    "papermill": {
     "duration": 0.333264,
     "end_time": "2021-08-10T18:53:15.603484",
     "exception": false,
     "start_time": "2021-08-10T18:53:15.270220",
     "status": "completed"
    },
    "tags": []
   },
   "outputs": [
    {
     "data": {
      "text/html": [
       "<div>\n",
       "<style scoped>\n",
       "    .dataframe tbody tr th:only-of-type {\n",
       "        vertical-align: middle;\n",
       "    }\n",
       "\n",
       "    .dataframe tbody tr th {\n",
       "        vertical-align: top;\n",
       "    }\n",
       "\n",
       "    .dataframe thead th {\n",
       "        text-align: right;\n",
       "    }\n",
       "</style>\n",
       "<table border=\"1\" class=\"dataframe\">\n",
       "  <thead>\n",
       "    <tr style=\"text-align: right;\">\n",
       "      <th></th>\n",
       "      <th>Unnamed: 0</th>\n",
       "      <th>col_0</th>\n",
       "      <th>col_1</th>\n",
       "      <th>col_2</th>\n",
       "      <th>col_3</th>\n",
       "      <th>col_4</th>\n",
       "      <th>col_5</th>\n",
       "      <th>col_6</th>\n",
       "      <th>col_7</th>\n",
       "      <th>col_8</th>\n",
       "      <th>...</th>\n",
       "      <th>col_103</th>\n",
       "      <th>col_104</th>\n",
       "      <th>col_105</th>\n",
       "      <th>col_106</th>\n",
       "      <th>col_107</th>\n",
       "      <th>col_108</th>\n",
       "      <th>col_109</th>\n",
       "      <th>col_110</th>\n",
       "      <th>col_111</th>\n",
       "      <th>targets</th>\n",
       "    </tr>\n",
       "  </thead>\n",
       "  <tbody>\n",
       "    <tr>\n",
       "      <th>count</th>\n",
       "      <td>20468.000000</td>\n",
       "      <td>20468.000000</td>\n",
       "      <td>20468.000000</td>\n",
       "      <td>20468.000000</td>\n",
       "      <td>20468.000000</td>\n",
       "      <td>20468.000000</td>\n",
       "      <td>20468.000000</td>\n",
       "      <td>20468.000000</td>\n",
       "      <td>20468.000000</td>\n",
       "      <td>20468.0</td>\n",
       "      <td>...</td>\n",
       "      <td>20468.000000</td>\n",
       "      <td>20468.000000</td>\n",
       "      <td>20468.000000</td>\n",
       "      <td>20468.000000</td>\n",
       "      <td>20468.000000</td>\n",
       "      <td>20468.000000</td>\n",
       "      <td>20468.000000</td>\n",
       "      <td>20468.000000</td>\n",
       "      <td>20468.000000</td>\n",
       "      <td>20468.000000</td>\n",
       "    </tr>\n",
       "    <tr>\n",
       "      <th>mean</th>\n",
       "      <td>10233.500000</td>\n",
       "      <td>3.226256</td>\n",
       "      <td>294.793043</td>\n",
       "      <td>0.420021</td>\n",
       "      <td>2.329343</td>\n",
       "      <td>0.083594</td>\n",
       "      <td>0.939857</td>\n",
       "      <td>2.386066</td>\n",
       "      <td>3.226256</td>\n",
       "      <td>0.0</td>\n",
       "      <td>...</td>\n",
       "      <td>0.004935</td>\n",
       "      <td>0.358120</td>\n",
       "      <td>0.002443</td>\n",
       "      <td>0.308384</td>\n",
       "      <td>0.190737</td>\n",
       "      <td>0.000049</td>\n",
       "      <td>0.049345</td>\n",
       "      <td>0.024282</td>\n",
       "      <td>43.486125</td>\n",
       "      <td>0.265683</td>\n",
       "    </tr>\n",
       "    <tr>\n",
       "      <th>std</th>\n",
       "      <td>5908.746991</td>\n",
       "      <td>20.564308</td>\n",
       "      <td>717.541984</td>\n",
       "      <td>7.367275</td>\n",
       "      <td>10.068512</td>\n",
       "      <td>0.840537</td>\n",
       "      <td>4.222896</td>\n",
       "      <td>3.018140</td>\n",
       "      <td>20.564308</td>\n",
       "      <td>0.0</td>\n",
       "      <td>...</td>\n",
       "      <td>0.073478</td>\n",
       "      <td>0.479459</td>\n",
       "      <td>0.049366</td>\n",
       "      <td>0.461837</td>\n",
       "      <td>0.392892</td>\n",
       "      <td>0.006990</td>\n",
       "      <td>0.216593</td>\n",
       "      <td>0.305079</td>\n",
       "      <td>59.217560</td>\n",
       "      <td>0.441707</td>\n",
       "    </tr>\n",
       "    <tr>\n",
       "      <th>min</th>\n",
       "      <td>0.000000</td>\n",
       "      <td>0.000000</td>\n",
       "      <td>0.000000</td>\n",
       "      <td>0.000000</td>\n",
       "      <td>0.000000</td>\n",
       "      <td>0.000000</td>\n",
       "      <td>0.000000</td>\n",
       "      <td>-1.000000</td>\n",
       "      <td>0.000000</td>\n",
       "      <td>0.0</td>\n",
       "      <td>...</td>\n",
       "      <td>0.000000</td>\n",
       "      <td>0.000000</td>\n",
       "      <td>0.000000</td>\n",
       "      <td>0.000000</td>\n",
       "      <td>0.000000</td>\n",
       "      <td>0.000000</td>\n",
       "      <td>0.000000</td>\n",
       "      <td>0.000000</td>\n",
       "      <td>0.000000</td>\n",
       "      <td>0.000000</td>\n",
       "    </tr>\n",
       "    <tr>\n",
       "      <th>25%</th>\n",
       "      <td>5116.750000</td>\n",
       "      <td>0.000000</td>\n",
       "      <td>38.000000</td>\n",
       "      <td>0.000000</td>\n",
       "      <td>0.000000</td>\n",
       "      <td>0.000000</td>\n",
       "      <td>0.000000</td>\n",
       "      <td>0.000000</td>\n",
       "      <td>0.000000</td>\n",
       "      <td>0.0</td>\n",
       "      <td>...</td>\n",
       "      <td>0.000000</td>\n",
       "      <td>0.000000</td>\n",
       "      <td>0.000000</td>\n",
       "      <td>0.000000</td>\n",
       "      <td>0.000000</td>\n",
       "      <td>0.000000</td>\n",
       "      <td>0.000000</td>\n",
       "      <td>0.000000</td>\n",
       "      <td>5.000000</td>\n",
       "      <td>0.000000</td>\n",
       "    </tr>\n",
       "    <tr>\n",
       "      <th>50%</th>\n",
       "      <td>10233.500000</td>\n",
       "      <td>0.000000</td>\n",
       "      <td>97.000000</td>\n",
       "      <td>0.000000</td>\n",
       "      <td>1.000000</td>\n",
       "      <td>0.000000</td>\n",
       "      <td>0.000000</td>\n",
       "      <td>2.000000</td>\n",
       "      <td>0.000000</td>\n",
       "      <td>0.0</td>\n",
       "      <td>...</td>\n",
       "      <td>0.000000</td>\n",
       "      <td>0.000000</td>\n",
       "      <td>0.000000</td>\n",
       "      <td>0.000000</td>\n",
       "      <td>0.000000</td>\n",
       "      <td>0.000000</td>\n",
       "      <td>0.000000</td>\n",
       "      <td>0.000000</td>\n",
       "      <td>19.000000</td>\n",
       "      <td>0.000000</td>\n",
       "    </tr>\n",
       "    <tr>\n",
       "      <th>75%</th>\n",
       "      <td>15350.250000</td>\n",
       "      <td>2.000000</td>\n",
       "      <td>283.000000</td>\n",
       "      <td>0.000000</td>\n",
       "      <td>2.000000</td>\n",
       "      <td>0.000000</td>\n",
       "      <td>1.000000</td>\n",
       "      <td>6.000000</td>\n",
       "      <td>2.000000</td>\n",
       "      <td>0.0</td>\n",
       "      <td>...</td>\n",
       "      <td>0.000000</td>\n",
       "      <td>1.000000</td>\n",
       "      <td>0.000000</td>\n",
       "      <td>1.000000</td>\n",
       "      <td>0.000000</td>\n",
       "      <td>0.000000</td>\n",
       "      <td>0.000000</td>\n",
       "      <td>0.000000</td>\n",
       "      <td>61.250000</td>\n",
       "      <td>1.000000</td>\n",
       "    </tr>\n",
       "    <tr>\n",
       "      <th>max</th>\n",
       "      <td>20467.000000</td>\n",
       "      <td>2301.000000</td>\n",
       "      <td>37808.000000</td>\n",
       "      <td>904.000000</td>\n",
       "      <td>772.000000</td>\n",
       "      <td>54.000000</td>\n",
       "      <td>230.000000</td>\n",
       "      <td>11.000000</td>\n",
       "      <td>2301.000000</td>\n",
       "      <td>0.0</td>\n",
       "      <td>...</td>\n",
       "      <td>2.000000</td>\n",
       "      <td>1.000000</td>\n",
       "      <td>1.000000</td>\n",
       "      <td>1.000000</td>\n",
       "      <td>1.000000</td>\n",
       "      <td>1.000000</td>\n",
       "      <td>1.000000</td>\n",
       "      <td>17.000000</td>\n",
       "      <td>747.000000</td>\n",
       "      <td>1.000000</td>\n",
       "    </tr>\n",
       "  </tbody>\n",
       "</table>\n",
       "<p>8 rows × 114 columns</p>\n",
       "</div>"
      ],
      "text/plain": [
       "         Unnamed: 0         col_0         col_1         col_2         col_3  \\\n",
       "count  20468.000000  20468.000000  20468.000000  20468.000000  20468.000000   \n",
       "mean   10233.500000      3.226256    294.793043      0.420021      2.329343   \n",
       "std     5908.746991     20.564308    717.541984      7.367275     10.068512   \n",
       "min        0.000000      0.000000      0.000000      0.000000      0.000000   \n",
       "25%     5116.750000      0.000000     38.000000      0.000000      0.000000   \n",
       "50%    10233.500000      0.000000     97.000000      0.000000      1.000000   \n",
       "75%    15350.250000      2.000000    283.000000      0.000000      2.000000   \n",
       "max    20467.000000   2301.000000  37808.000000    904.000000    772.000000   \n",
       "\n",
       "              col_4         col_5         col_6         col_7    col_8  ...  \\\n",
       "count  20468.000000  20468.000000  20468.000000  20468.000000  20468.0  ...   \n",
       "mean       0.083594      0.939857      2.386066      3.226256      0.0  ...   \n",
       "std        0.840537      4.222896      3.018140     20.564308      0.0  ...   \n",
       "min        0.000000      0.000000     -1.000000      0.000000      0.0  ...   \n",
       "25%        0.000000      0.000000      0.000000      0.000000      0.0  ...   \n",
       "50%        0.000000      0.000000      2.000000      0.000000      0.0  ...   \n",
       "75%        0.000000      1.000000      6.000000      2.000000      0.0  ...   \n",
       "max       54.000000    230.000000     11.000000   2301.000000      0.0  ...   \n",
       "\n",
       "            col_103       col_104       col_105       col_106       col_107  \\\n",
       "count  20468.000000  20468.000000  20468.000000  20468.000000  20468.000000   \n",
       "mean       0.004935      0.358120      0.002443      0.308384      0.190737   \n",
       "std        0.073478      0.479459      0.049366      0.461837      0.392892   \n",
       "min        0.000000      0.000000      0.000000      0.000000      0.000000   \n",
       "25%        0.000000      0.000000      0.000000      0.000000      0.000000   \n",
       "50%        0.000000      0.000000      0.000000      0.000000      0.000000   \n",
       "75%        0.000000      1.000000      0.000000      1.000000      0.000000   \n",
       "max        2.000000      1.000000      1.000000      1.000000      1.000000   \n",
       "\n",
       "            col_108       col_109       col_110       col_111       targets  \n",
       "count  20468.000000  20468.000000  20468.000000  20468.000000  20468.000000  \n",
       "mean       0.000049      0.049345      0.024282     43.486125      0.265683  \n",
       "std        0.006990      0.216593      0.305079     59.217560      0.441707  \n",
       "min        0.000000      0.000000      0.000000      0.000000      0.000000  \n",
       "25%        0.000000      0.000000      0.000000      5.000000      0.000000  \n",
       "50%        0.000000      0.000000      0.000000     19.000000      0.000000  \n",
       "75%        0.000000      0.000000      0.000000     61.250000      1.000000  \n",
       "max        1.000000      1.000000     17.000000    747.000000      1.000000  \n",
       "\n",
       "[8 rows x 114 columns]"
      ]
     },
     "execution_count": 5,
     "metadata": {},
     "output_type": "execute_result"
    }
   ],
   "source": [
    "data.describe()"
   ]
  },
  {
   "cell_type": "markdown",
   "id": "69c5afa0",
   "metadata": {
    "papermill": {
     "duration": 0.034703,
     "end_time": "2021-08-10T18:53:15.676713",
     "exception": false,
     "start_time": "2021-08-10T18:53:15.642010",
     "status": "completed"
    },
    "tags": []
   },
   "source": [
    "<a id='4'></a>\n",
    "### Missing Value"
   ]
  },
  {
   "cell_type": "code",
   "execution_count": 6,
   "id": "b67c300a",
   "metadata": {
    "execution": {
     "iopub.execute_input": "2021-08-10T18:53:15.746467Z",
     "iopub.status.busy": "2021-08-10T18:53:15.745520Z",
     "iopub.status.idle": "2021-08-10T18:53:15.752616Z",
     "shell.execute_reply": "2021-08-10T18:53:15.752123Z",
     "shell.execute_reply.started": "2021-08-10T17:51:25.338914Z"
    },
    "papermill": {
     "duration": 0.042714,
     "end_time": "2021-08-10T18:53:15.752756",
     "exception": false,
     "start_time": "2021-08-10T18:53:15.710042",
     "status": "completed"
    },
    "tags": []
   },
   "outputs": [
    {
     "name": "stdout",
     "output_type": "stream",
     "text": [
      "Count of features with missing values: 0\n"
     ]
    }
   ],
   "source": [
    "missing_count = data.isnull().any().sum()\n",
    "print(f'Count of features with missing values: {missing_count}')"
   ]
  },
  {
   "cell_type": "markdown",
   "id": "ceecbac5",
   "metadata": {
    "papermill": {
     "duration": 0.035383,
     "end_time": "2021-08-10T18:53:15.821114",
     "exception": false,
     "start_time": "2021-08-10T18:53:15.785731",
     "status": "completed"
    },
    "tags": []
   },
   "source": [
    "<a id='5'></a>\n",
    "### Distribution"
   ]
  },
  {
   "cell_type": "code",
   "execution_count": 7,
   "id": "06022415",
   "metadata": {
    "execution": {
     "iopub.execute_input": "2021-08-10T18:53:15.903697Z",
     "iopub.status.busy": "2021-08-10T18:53:15.902686Z",
     "iopub.status.idle": "2021-08-10T18:53:15.920473Z",
     "shell.execute_reply": "2021-08-10T18:53:15.921012Z",
     "shell.execute_reply.started": "2021-08-10T17:51:25.351976Z"
    },
    "papermill": {
     "duration": 0.069941,
     "end_time": "2021-08-10T18:53:15.921201",
     "exception": false,
     "start_time": "2021-08-10T18:53:15.851260",
     "status": "completed"
    },
    "tags": []
   },
   "outputs": [
    {
     "data": {
      "text/html": [
       "<div>\n",
       "<style scoped>\n",
       "    .dataframe tbody tr th:only-of-type {\n",
       "        vertical-align: middle;\n",
       "    }\n",
       "\n",
       "    .dataframe tbody tr th {\n",
       "        vertical-align: top;\n",
       "    }\n",
       "\n",
       "    .dataframe thead th {\n",
       "        text-align: right;\n",
       "    }\n",
       "</style>\n",
       "<table border=\"1\" class=\"dataframe\">\n",
       "  <thead>\n",
       "    <tr style=\"text-align: right;\">\n",
       "      <th></th>\n",
       "      <th>Unnamed: 0</th>\n",
       "      <th>col_0</th>\n",
       "      <th>col_1</th>\n",
       "      <th>col_2</th>\n",
       "      <th>col_3</th>\n",
       "      <th>col_4</th>\n",
       "      <th>col_5</th>\n",
       "      <th>col_6</th>\n",
       "      <th>col_7</th>\n",
       "      <th>col_8</th>\n",
       "      <th>...</th>\n",
       "      <th>col_103</th>\n",
       "      <th>col_104</th>\n",
       "      <th>col_105</th>\n",
       "      <th>col_106</th>\n",
       "      <th>col_107</th>\n",
       "      <th>col_108</th>\n",
       "      <th>col_109</th>\n",
       "      <th>col_110</th>\n",
       "      <th>col_111</th>\n",
       "      <th>targets</th>\n",
       "    </tr>\n",
       "  </thead>\n",
       "  <tbody>\n",
       "    <tr>\n",
       "      <th>20463</th>\n",
       "      <td>20463</td>\n",
       "      <td>0</td>\n",
       "      <td>88</td>\n",
       "      <td>0</td>\n",
       "      <td>0</td>\n",
       "      <td>0</td>\n",
       "      <td>2</td>\n",
       "      <td>-1</td>\n",
       "      <td>0</td>\n",
       "      <td>0</td>\n",
       "      <td>...</td>\n",
       "      <td>0</td>\n",
       "      <td>1</td>\n",
       "      <td>0</td>\n",
       "      <td>0</td>\n",
       "      <td>0</td>\n",
       "      <td>0</td>\n",
       "      <td>1</td>\n",
       "      <td>0</td>\n",
       "      <td>85</td>\n",
       "      <td>0</td>\n",
       "    </tr>\n",
       "    <tr>\n",
       "      <th>20464</th>\n",
       "      <td>20464</td>\n",
       "      <td>0</td>\n",
       "      <td>134</td>\n",
       "      <td>0</td>\n",
       "      <td>2</td>\n",
       "      <td>0</td>\n",
       "      <td>0</td>\n",
       "      <td>6</td>\n",
       "      <td>0</td>\n",
       "      <td>0</td>\n",
       "      <td>...</td>\n",
       "      <td>0</td>\n",
       "      <td>0</td>\n",
       "      <td>0</td>\n",
       "      <td>0</td>\n",
       "      <td>0</td>\n",
       "      <td>0</td>\n",
       "      <td>0</td>\n",
       "      <td>0</td>\n",
       "      <td>7</td>\n",
       "      <td>0</td>\n",
       "    </tr>\n",
       "    <tr>\n",
       "      <th>20465</th>\n",
       "      <td>20465</td>\n",
       "      <td>4</td>\n",
       "      <td>393</td>\n",
       "      <td>1</td>\n",
       "      <td>1</td>\n",
       "      <td>0</td>\n",
       "      <td>0</td>\n",
       "      <td>-1</td>\n",
       "      <td>4</td>\n",
       "      <td>0</td>\n",
       "      <td>...</td>\n",
       "      <td>0</td>\n",
       "      <td>1</td>\n",
       "      <td>0</td>\n",
       "      <td>0</td>\n",
       "      <td>0</td>\n",
       "      <td>0</td>\n",
       "      <td>0</td>\n",
       "      <td>0</td>\n",
       "      <td>45</td>\n",
       "      <td>0</td>\n",
       "    </tr>\n",
       "    <tr>\n",
       "      <th>20466</th>\n",
       "      <td>20466</td>\n",
       "      <td>0</td>\n",
       "      <td>10</td>\n",
       "      <td>0</td>\n",
       "      <td>1</td>\n",
       "      <td>0</td>\n",
       "      <td>0</td>\n",
       "      <td>-1</td>\n",
       "      <td>0</td>\n",
       "      <td>0</td>\n",
       "      <td>...</td>\n",
       "      <td>0</td>\n",
       "      <td>0</td>\n",
       "      <td>0</td>\n",
       "      <td>0</td>\n",
       "      <td>0</td>\n",
       "      <td>0</td>\n",
       "      <td>0</td>\n",
       "      <td>0</td>\n",
       "      <td>5</td>\n",
       "      <td>0</td>\n",
       "    </tr>\n",
       "    <tr>\n",
       "      <th>20467</th>\n",
       "      <td>20467</td>\n",
       "      <td>4</td>\n",
       "      <td>399</td>\n",
       "      <td>0</td>\n",
       "      <td>3</td>\n",
       "      <td>0</td>\n",
       "      <td>1</td>\n",
       "      <td>7</td>\n",
       "      <td>4</td>\n",
       "      <td>0</td>\n",
       "      <td>...</td>\n",
       "      <td>0</td>\n",
       "      <td>1</td>\n",
       "      <td>0</td>\n",
       "      <td>1</td>\n",
       "      <td>1</td>\n",
       "      <td>0</td>\n",
       "      <td>0</td>\n",
       "      <td>0</td>\n",
       "      <td>72</td>\n",
       "      <td>0</td>\n",
       "    </tr>\n",
       "  </tbody>\n",
       "</table>\n",
       "<p>5 rows × 114 columns</p>\n",
       "</div>"
      ],
      "text/plain": [
       "       Unnamed: 0  col_0  col_1  col_2  col_3  col_4  col_5  col_6  col_7  \\\n",
       "20463       20463      0     88      0      0      0      2     -1      0   \n",
       "20464       20464      0    134      0      2      0      0      6      0   \n",
       "20465       20465      4    393      1      1      0      0     -1      4   \n",
       "20466       20466      0     10      0      1      0      0     -1      0   \n",
       "20467       20467      4    399      0      3      0      1      7      4   \n",
       "\n",
       "       col_8  ...  col_103  col_104  col_105  col_106  col_107  col_108  \\\n",
       "20463      0  ...        0        1        0        0        0        0   \n",
       "20464      0  ...        0        0        0        0        0        0   \n",
       "20465      0  ...        0        1        0        0        0        0   \n",
       "20466      0  ...        0        0        0        0        0        0   \n",
       "20467      0  ...        0        1        0        1        1        0   \n",
       "\n",
       "       col_109  col_110  col_111  targets  \n",
       "20463        1        0       85        0  \n",
       "20464        0        0        7        0  \n",
       "20465        0        0       45        0  \n",
       "20466        0        0        5        0  \n",
       "20467        0        0       72        0  \n",
       "\n",
       "[5 rows x 114 columns]"
      ]
     },
     "execution_count": 7,
     "metadata": {},
     "output_type": "execute_result"
    }
   ],
   "source": [
    "data.tail()"
   ]
  },
  {
   "cell_type": "code",
   "execution_count": 8,
   "id": "302ef1b7",
   "metadata": {
    "execution": {
     "iopub.execute_input": "2021-08-10T18:53:16.004693Z",
     "iopub.status.busy": "2021-08-10T18:53:16.003481Z",
     "iopub.status.idle": "2021-08-10T18:53:37.793280Z",
     "shell.execute_reply": "2021-08-10T18:53:37.793809Z",
     "shell.execute_reply.started": "2021-08-10T17:51:25.380185Z"
    },
    "papermill": {
     "duration": 21.834358,
     "end_time": "2021-08-10T18:53:37.793996",
     "exception": false,
     "start_time": "2021-08-10T18:53:15.959638",
     "status": "completed"
    },
    "tags": []
   },
   "outputs": [
    {
     "data": {
      "image/png": "[encoded data removed]",
      "text/plain": [
       "<Figure size 2016x1008 with 112 Axes>"
      ]
     },
     "metadata": {},
     "output_type": "display_data"
    }
   ],
   "source": [
    "fig, axes = plt.subplots(7,16,figsize=(28,14))\n",
    "axes = axes.flatten()\n",
    "\n",
    "for col, ax in enumerate(axes):\n",
    "    sns.kdeplot(data=data, x=f'col_{col}', \n",
    "                fill=True, \n",
    "                ax=ax)\n",
    " \n",
    "    ax.set_xticks([])\n",
    "    ax.set_yticks([])\n",
    "    ax.set_xlabel('')\n",
    "    ax.set_ylabel('')\n",
    "    ax.set_title(f'col_{col}', loc='center', weight='bold', fontsize=10)\n",
    "\n",
    "plt.show()"
   ]
  },
  {
   "cell_type": "markdown",
   "id": "f66732b5",
   "metadata": {
    "papermill": {
     "duration": 0.035514,
     "end_time": "2021-08-10T18:53:37.863813",
     "exception": false,
     "start_time": "2021-08-10T18:53:37.828299",
     "status": "completed"
    },
    "tags": []
   },
   "source": [
    "#### Column List:\n",
    "   * 8-9-10-11-12-18-19-20-21-35-51-52-53-70-71 \n",
    "   \n",
    "   \n",
    "As the features in column list has a single value, we're dropping that from dataset."
   ]
  },
  {
   "cell_type": "code",
   "execution_count": 9,
   "id": "2b67adef",
   "metadata": {
    "execution": {
     "iopub.execute_input": "2021-08-10T18:53:37.952855Z",
     "iopub.status.busy": "2021-08-10T18:53:37.951849Z",
     "iopub.status.idle": "2021-08-10T18:53:37.966775Z",
     "shell.execute_reply": "2021-08-10T18:53:37.967307Z",
     "shell.execute_reply.started": "2021-08-10T17:51:47.728375Z"
    },
    "papermill": {
     "duration": 0.060247,
     "end_time": "2021-08-10T18:53:37.967479",
     "exception": false,
     "start_time": "2021-08-10T18:53:37.907232",
     "status": "completed"
    },
    "tags": []
   },
   "outputs": [],
   "source": [
    "drop_list=['col_8','col_9','col_10','col_11','col_12','col_18','col_19','col_20','col_21','col_35','col_51','col_52','col_53','col_70','col_71']\n",
    "data.drop(drop_list,axis=1,inplace=True)"
   ]
  },
  {
   "cell_type": "code",
   "execution_count": 10,
   "id": "4c6fc977",
   "metadata": {
    "execution": {
     "iopub.execute_input": "2021-08-10T18:53:38.041259Z",
     "iopub.status.busy": "2021-08-10T18:53:38.040575Z",
     "iopub.status.idle": "2021-08-10T18:53:38.051774Z",
     "shell.execute_reply": "2021-08-10T18:53:38.051144Z",
     "shell.execute_reply.started": "2021-08-10T17:51:47.745904Z"
    },
    "papermill": {
     "duration": 0.050324,
     "end_time": "2021-08-10T18:53:38.051928",
     "exception": false,
     "start_time": "2021-08-10T18:53:38.001604",
     "status": "completed"
    },
    "tags": []
   },
   "outputs": [],
   "source": [
    "col_list = ['index']\n",
    "last_one = len(data.columns)-1\n",
    "for i in range(last_one):\n",
    "    if i != last_one-1:\n",
    "        col_list.append(f'col_{i}')\n",
    "\n",
    "col_list.append('targets')\n",
    "\n",
    "data = data.set_axis(col_list,axis=1)"
   ]
  },
  {
   "cell_type": "code",
   "execution_count": 11,
   "id": "4aff5a54",
   "metadata": {
    "execution": {
     "iopub.execute_input": "2021-08-10T18:53:38.138443Z",
     "iopub.status.busy": "2021-08-10T18:53:38.137758Z",
     "iopub.status.idle": "2021-08-10T18:53:38.141800Z",
     "shell.execute_reply": "2021-08-10T18:53:38.141013Z",
     "shell.execute_reply.started": "2021-08-10T17:51:47.769326Z"
    },
    "papermill": {
     "duration": 0.055361,
     "end_time": "2021-08-10T18:53:38.141987",
     "exception": false,
     "start_time": "2021-08-10T18:53:38.086626",
     "status": "completed"
    },
    "tags": []
   },
   "outputs": [
    {
     "data": {
      "text/html": [
       "<div>\n",
       "<style scoped>\n",
       "    .dataframe tbody tr th:only-of-type {\n",
       "        vertical-align: middle;\n",
       "    }\n",
       "\n",
       "    .dataframe tbody tr th {\n",
       "        vertical-align: top;\n",
       "    }\n",
       "\n",
       "    .dataframe thead th {\n",
       "        text-align: right;\n",
       "    }\n",
       "</style>\n",
       "<table border=\"1\" class=\"dataframe\">\n",
       "  <thead>\n",
       "    <tr style=\"text-align: right;\">\n",
       "      <th></th>\n",
       "      <th>index</th>\n",
       "      <th>col_0</th>\n",
       "      <th>col_1</th>\n",
       "      <th>col_2</th>\n",
       "      <th>col_3</th>\n",
       "      <th>col_4</th>\n",
       "      <th>col_5</th>\n",
       "      <th>col_6</th>\n",
       "      <th>col_7</th>\n",
       "      <th>col_8</th>\n",
       "      <th>...</th>\n",
       "      <th>col_88</th>\n",
       "      <th>col_89</th>\n",
       "      <th>col_90</th>\n",
       "      <th>col_91</th>\n",
       "      <th>col_92</th>\n",
       "      <th>col_93</th>\n",
       "      <th>col_94</th>\n",
       "      <th>col_95</th>\n",
       "      <th>col_96</th>\n",
       "      <th>targets</th>\n",
       "    </tr>\n",
       "  </thead>\n",
       "  <tbody>\n",
       "    <tr>\n",
       "      <th>0</th>\n",
       "      <td>0</td>\n",
       "      <td>9</td>\n",
       "      <td>1354</td>\n",
       "      <td>0</td>\n",
       "      <td>18</td>\n",
       "      <td>0</td>\n",
       "      <td>1</td>\n",
       "      <td>7</td>\n",
       "      <td>9</td>\n",
       "      <td>0</td>\n",
       "      <td>...</td>\n",
       "      <td>0</td>\n",
       "      <td>0</td>\n",
       "      <td>0</td>\n",
       "      <td>1</td>\n",
       "      <td>1</td>\n",
       "      <td>0</td>\n",
       "      <td>0</td>\n",
       "      <td>0</td>\n",
       "      <td>49</td>\n",
       "      <td>1</td>\n",
       "    </tr>\n",
       "    <tr>\n",
       "      <th>1</th>\n",
       "      <td>1</td>\n",
       "      <td>0</td>\n",
       "      <td>239</td>\n",
       "      <td>0</td>\n",
       "      <td>1</td>\n",
       "      <td>0</td>\n",
       "      <td>1</td>\n",
       "      <td>0</td>\n",
       "      <td>0</td>\n",
       "      <td>0</td>\n",
       "      <td>...</td>\n",
       "      <td>0</td>\n",
       "      <td>1</td>\n",
       "      <td>0</td>\n",
       "      <td>0</td>\n",
       "      <td>0</td>\n",
       "      <td>0</td>\n",
       "      <td>0</td>\n",
       "      <td>0</td>\n",
       "      <td>55</td>\n",
       "      <td>1</td>\n",
       "    </tr>\n",
       "    <tr>\n",
       "      <th>2</th>\n",
       "      <td>2</td>\n",
       "      <td>0</td>\n",
       "      <td>260</td>\n",
       "      <td>0</td>\n",
       "      <td>4</td>\n",
       "      <td>0</td>\n",
       "      <td>3</td>\n",
       "      <td>6</td>\n",
       "      <td>0</td>\n",
       "      <td>0</td>\n",
       "      <td>...</td>\n",
       "      <td>0</td>\n",
       "      <td>0</td>\n",
       "      <td>0</td>\n",
       "      <td>1</td>\n",
       "      <td>1</td>\n",
       "      <td>0</td>\n",
       "      <td>0</td>\n",
       "      <td>0</td>\n",
       "      <td>56</td>\n",
       "      <td>1</td>\n",
       "    </tr>\n",
       "    <tr>\n",
       "      <th>3</th>\n",
       "      <td>3</td>\n",
       "      <td>17</td>\n",
       "      <td>682</td>\n",
       "      <td>0</td>\n",
       "      <td>1</td>\n",
       "      <td>0</td>\n",
       "      <td>0</td>\n",
       "      <td>8</td>\n",
       "      <td>17</td>\n",
       "      <td>0</td>\n",
       "      <td>...</td>\n",
       "      <td>0</td>\n",
       "      <td>1</td>\n",
       "      <td>0</td>\n",
       "      <td>1</td>\n",
       "      <td>1</td>\n",
       "      <td>0</td>\n",
       "      <td>0</td>\n",
       "      <td>0</td>\n",
       "      <td>65</td>\n",
       "      <td>1</td>\n",
       "    </tr>\n",
       "    <tr>\n",
       "      <th>4</th>\n",
       "      <td>4</td>\n",
       "      <td>1</td>\n",
       "      <td>540</td>\n",
       "      <td>0</td>\n",
       "      <td>2</td>\n",
       "      <td>0</td>\n",
       "      <td>1</td>\n",
       "      <td>7</td>\n",
       "      <td>1</td>\n",
       "      <td>0</td>\n",
       "      <td>...</td>\n",
       "      <td>0</td>\n",
       "      <td>0</td>\n",
       "      <td>0</td>\n",
       "      <td>1</td>\n",
       "      <td>1</td>\n",
       "      <td>0</td>\n",
       "      <td>0</td>\n",
       "      <td>0</td>\n",
       "      <td>175</td>\n",
       "      <td>1</td>\n",
       "    </tr>\n",
       "  </tbody>\n",
       "</table>\n",
       "<p>5 rows × 99 columns</p>\n",
       "</div>"
      ],
      "text/plain": [
       "   index  col_0  col_1  col_2  col_3  col_4  col_5  col_6  col_7  col_8  ...  \\\n",
       "0      0      9   1354      0     18      0      1      7      9      0  ...   \n",
       "1      1      0    239      0      1      0      1      0      0      0  ...   \n",
       "2      2      0    260      0      4      0      3      6      0      0  ...   \n",
       "3      3     17    682      0      1      0      0      8     17      0  ...   \n",
       "4      4      1    540      0      2      0      1      7      1      0  ...   \n",
       "\n",
       "   col_88  col_89  col_90  col_91  col_92  col_93  col_94  col_95  col_96  \\\n",
       "0       0       0       0       1       1       0       0       0      49   \n",
       "1       0       1       0       0       0       0       0       0      55   \n",
       "2       0       0       0       1       1       0       0       0      56   \n",
       "3       0       1       0       1       1       0       0       0      65   \n",
       "4       0       0       0       1       1       0       0       0     175   \n",
       "\n",
       "   targets  \n",
       "0        1  \n",
       "1        1  \n",
       "2        1  \n",
       "3        1  \n",
       "4        1  \n",
       "\n",
       "[5 rows x 99 columns]"
      ]
     },
     "execution_count": 11,
     "metadata": {},
     "output_type": "execute_result"
    }
   ],
   "source": [
    "data.head()"
   ]
  },
  {
   "cell_type": "markdown",
   "id": "7f4f5004",
   "metadata": {
    "papermill": {
     "duration": 0.034497,
     "end_time": "2021-08-10T18:53:38.211457",
     "exception": false,
     "start_time": "2021-08-10T18:53:38.176960",
     "status": "completed"
    },
    "tags": []
   },
   "source": [
    "<a id='6'></a>\n",
    "# Feature Engineering"
   ]
  },
  {
   "cell_type": "markdown",
   "id": "2f1f3d9d",
   "metadata": {
    "papermill": {
     "duration": 0.034003,
     "end_time": "2021-08-10T18:53:38.280146",
     "exception": false,
     "start_time": "2021-08-10T18:53:38.246143",
     "status": "completed"
    },
    "tags": []
   },
   "source": [
    "<a id='7'></a>\n",
    "### Analyzing"
   ]
  },
  {
   "cell_type": "code",
   "execution_count": 12,
   "id": "02c78193",
   "metadata": {
    "execution": {
     "iopub.execute_input": "2021-08-10T18:53:38.352212Z",
     "iopub.status.busy": "2021-08-10T18:53:38.351566Z",
     "iopub.status.idle": "2021-08-10T18:54:13.507257Z",
     "shell.execute_reply": "2021-08-10T18:54:13.507780Z",
     "shell.execute_reply.started": "2021-08-10T17:51:47.796263Z"
    },
    "papermill": {
     "duration": 35.193215,
     "end_time": "2021-08-10T18:54:13.507965",
     "exception": false,
     "start_time": "2021-08-10T18:53:38.314750",
     "status": "completed"
    },
    "tags": []
   },
   "outputs": [
    {
     "data": {
      "image/png": "[encoded data removed]",
      "text/plain": [
       "<Figure size 1440x2160 with 98 Axes>"
      ]
     },
     "metadata": {
      "needs_background": "light"
     },
     "output_type": "display_data"
    }
   ],
   "source": [
    "fig, axes = plt.subplots(14,7,figsize=(20,30))\n",
    "axes = axes.flatten()\n",
    "\n",
    "counter = 0\n",
    "\n",
    "for col, ax in enumerate(axes):\n",
    "    counter += 1\n",
    "    y = f'col_{col}'\n",
    "    \n",
    "    if counter<98:\n",
    "        sns.barplot(data=data, \n",
    "                    x='targets',\n",
    "                    y=y, \n",
    "                    palette='rocket', \n",
    "                    ax=ax)\n",
    "\n",
    "        ax.set_xlabel('')\n",
    "        \n",
    "plt.title('Features vs Targets')\n",
    "plt.tight_layout()\n",
    "plt.show()\n"
   ]
  },
  {
   "cell_type": "markdown",
   "id": "20591d8f",
   "metadata": {
    "papermill": {
     "duration": 0.040192,
     "end_time": "2021-08-10T18:54:13.588000",
     "exception": false,
     "start_time": "2021-08-10T18:54:13.547808",
     "status": "completed"
    },
    "tags": []
   },
   "source": [
    "<a id='8'></a>\n",
    "### Feature Extraction"
   ]
  },
  {
   "cell_type": "code",
   "execution_count": 13,
   "id": "9565ef7c",
   "metadata": {
    "execution": {
     "iopub.execute_input": "2021-08-10T18:54:13.737780Z",
     "iopub.status.busy": "2021-08-10T18:54:13.699460Z",
     "iopub.status.idle": "2021-08-10T18:54:14.443756Z",
     "shell.execute_reply": "2021-08-10T18:54:14.443213Z",
     "shell.execute_reply.started": "2021-08-10T17:52:24.649552Z"
    },
    "papermill": {
     "duration": 0.816331,
     "end_time": "2021-08-10T18:54:14.443925",
     "exception": false,
     "start_time": "2021-08-10T18:54:13.627594",
     "status": "completed"
    },
    "tags": []
   },
   "outputs": [],
   "source": [
    "data['c0'] = [0 if i > 3 else 1 for i in data.col_0]\n",
    "data['c1'] = [0 if i > 200 else 1 for i in data.col_1]\n",
    "data['c2'] = [0 if i > 0.4 else 1 for i in data.col_2]\n",
    "data['c3'] = [0 if i > 2 else 1 for i in data.col_3]\n",
    "data['c5'] = [1 if i > 1 else 0 for i in data.col_5]\n",
    "data['c7'] = [0 if i > 3 else 1 for i in data.col_7]\n",
    "data['c9'] = [0 if i > 0.2 else 1 for i in data.col_9]\n",
    "\n",
    "data['c11'] = [0 if i > 0.4 else 1 for i in data.col_11]\n",
    "data['c13'] = [0 if i > 4 else 1 for i in data.col_13]\n",
    "data['c14'] = [0 if i > 30 else 1 for i in data.col_14]\n",
    "data['c15'] = [0 if i > 3 else 1 for i in data.col_15]\n",
    "data['c16'] = [0 if i > 2 else 1 for i in data.col_16]\n",
    "data['c17'] = [0 if i > 1 else 1 for i in data.col_17]\n",
    "\n",
    "data['c20'] = [0 if i > 1.5 else 1 for i in data.col_20]\n",
    "data['c21'] = [0 if i > 5 else 1 for i in data.col_21]\n",
    "data['c22'] = [0 if i > 0.2 else 1 for i in data.col_22]\n",
    "data['c23'] = [0 if i > 0.4 else 1 for i in data.col_23]\n",
    "data['c24'] = [0 if i > 0.05 else 1 for i in data.col_24]\n",
    "data['c25'] = [0 if i > 2 else 1 for i in data.col_25]\n",
    "data['c28'] = [0 if i > 150 else 1 for i in data.col_28]\n",
    "\n",
    "data['c31'] = [0 if i > 0.5 else 1 for i in data.col_31]\n",
    "data['c32'] = [0 if i > 5 else 1 for i in data.col_32]\n",
    "data['c33'] = [0 if i > 0.3 else 1 for i in data.col_33]\n",
    "data['c35'] = [0 if i > 0.05 else 1 for i in data.col_35]\n",
    "\n",
    "data['c41'] = [0 if i > 150 else 1 for i in data.col_41]\n",
    "data['c46'] = [0 if i > 0.2 else 1 for i in data.col_46]\n",
    "data['c47'] = [0 if i > 4 else 1 for i in data.col_47]\n",
    "data['c27'] = [0 if i > 0.4 else 1 for i in data.col_27]\n",
    "data['c48'] = [0 if i > 0.2 else 1 for i in data.col_48]\n",
    "\n",
    "data['c54'] = [0 if i > 30000 else 1 for i in data.col_54]\n",
    "data['c55'] = [0 if i > 30 else 1 for i in data.col_55]\n",
    "data['c57'] = [1 if i > 0.005 else 0 for i in data.col_57]\n",
    "data['c58'] = [1 if i > 0.05 else 0 for i in data.col_58]\n",
    "data['c59'] = [1 if i > 0.05 else 0 for i in data.col_59]\n",
    "\n",
    "data['c61'] = [1 if i > 0.1 else 0 for i in data.col_61]\n",
    "data['c62'] = [1 if i > 0.02 else 0 for i in data.col_62]\n",
    "data['c66'] = [1 if i > 0.01 else 0 for i in data.col_66]\n",
    "data['c67'] = [1 if i > 0.04 else 0 for i in data.col_67]\n",
    "data['c68'] = [1 if i > 0.1 else 0 for i in data.col_68]\n",
    "data['c69'] = [1 if i > 0.025 else 0 for i in data.col_69]\n",
    "\n",
    "data['c70'] = [1 if i > 0.05 else 0 for i in data.col_70]\n",
    "data['c71'] = [1 if i > 0.05 else 0 for i in data.col_71]\n",
    "data['c72'] = [1 if i > 0.025 else 0 for i in data.col_72]\n",
    "data['c73'] = [1 if i > 0.01 else 0 for i in data.col_73]\n",
    "data['c74'] = [1 if i > 0.1 else 0 for i in data.col_74]\n",
    "data['c78'] = [1 if i > 0.05 else 0 for i in data.col_78]\n",
    "data['c79'] = [1 if i > 0.02 else 0 for i in data.col_79]\n",
    "\n",
    "data['c83'] = [0 if i > 0.2 else 1 for i in data.col_83]\n",
    "data['c88'] = [0 if i > 0.005 else 1 for i in data.col_88]\n",
    "\n",
    "data['c91'] = [0 if i > 0.3 else 1 for i in data.col_91]\n",
    "data['c92'] = [0 if i > 0.2 else 1 for i in data.col_92]\n",
    "data['c94'] = [1 if i > 0.05 else 0 for i in data.col_94]\n",
    "data['c95'] = [1 if i > 0.04 else 0 for i in data.col_95]\n"
   ]
  },
  {
   "cell_type": "code",
   "execution_count": 14,
   "id": "15738163",
   "metadata": {
    "execution": {
     "iopub.execute_input": "2021-08-10T18:54:14.529449Z",
     "iopub.status.busy": "2021-08-10T18:54:14.528635Z",
     "iopub.status.idle": "2021-08-10T18:54:14.546355Z",
     "shell.execute_reply": "2021-08-10T18:54:14.546849Z",
     "shell.execute_reply.started": "2021-08-10T17:52:25.481937Z"
    },
    "papermill": {
     "duration": 0.06335,
     "end_time": "2021-08-10T18:54:14.547034",
     "exception": false,
     "start_time": "2021-08-10T18:54:14.483684",
     "status": "completed"
    },
    "tags": []
   },
   "outputs": [
    {
     "data": {
      "text/html": [
       "<div>\n",
       "<style scoped>\n",
       "    .dataframe tbody tr th:only-of-type {\n",
       "        vertical-align: middle;\n",
       "    }\n",
       "\n",
       "    .dataframe tbody tr th {\n",
       "        vertical-align: top;\n",
       "    }\n",
       "\n",
       "    .dataframe thead th {\n",
       "        text-align: right;\n",
       "    }\n",
       "</style>\n",
       "<table border=\"1\" class=\"dataframe\">\n",
       "  <thead>\n",
       "    <tr style=\"text-align: right;\">\n",
       "      <th></th>\n",
       "      <th>index</th>\n",
       "      <th>col_0</th>\n",
       "      <th>col_1</th>\n",
       "      <th>col_2</th>\n",
       "      <th>col_3</th>\n",
       "      <th>col_4</th>\n",
       "      <th>col_5</th>\n",
       "      <th>col_6</th>\n",
       "      <th>col_7</th>\n",
       "      <th>col_8</th>\n",
       "      <th>...</th>\n",
       "      <th>c73</th>\n",
       "      <th>c74</th>\n",
       "      <th>c78</th>\n",
       "      <th>c79</th>\n",
       "      <th>c83</th>\n",
       "      <th>c88</th>\n",
       "      <th>c91</th>\n",
       "      <th>c92</th>\n",
       "      <th>c94</th>\n",
       "      <th>c95</th>\n",
       "    </tr>\n",
       "  </thead>\n",
       "  <tbody>\n",
       "    <tr>\n",
       "      <th>0</th>\n",
       "      <td>0</td>\n",
       "      <td>9</td>\n",
       "      <td>1354</td>\n",
       "      <td>0</td>\n",
       "      <td>18</td>\n",
       "      <td>0</td>\n",
       "      <td>1</td>\n",
       "      <td>7</td>\n",
       "      <td>9</td>\n",
       "      <td>0</td>\n",
       "      <td>...</td>\n",
       "      <td>0</td>\n",
       "      <td>0</td>\n",
       "      <td>0</td>\n",
       "      <td>0</td>\n",
       "      <td>0</td>\n",
       "      <td>1</td>\n",
       "      <td>0</td>\n",
       "      <td>0</td>\n",
       "      <td>0</td>\n",
       "      <td>0</td>\n",
       "    </tr>\n",
       "    <tr>\n",
       "      <th>1</th>\n",
       "      <td>1</td>\n",
       "      <td>0</td>\n",
       "      <td>239</td>\n",
       "      <td>0</td>\n",
       "      <td>1</td>\n",
       "      <td>0</td>\n",
       "      <td>1</td>\n",
       "      <td>0</td>\n",
       "      <td>0</td>\n",
       "      <td>0</td>\n",
       "      <td>...</td>\n",
       "      <td>0</td>\n",
       "      <td>1</td>\n",
       "      <td>0</td>\n",
       "      <td>0</td>\n",
       "      <td>1</td>\n",
       "      <td>1</td>\n",
       "      <td>1</td>\n",
       "      <td>1</td>\n",
       "      <td>0</td>\n",
       "      <td>0</td>\n",
       "    </tr>\n",
       "    <tr>\n",
       "      <th>2</th>\n",
       "      <td>2</td>\n",
       "      <td>0</td>\n",
       "      <td>260</td>\n",
       "      <td>0</td>\n",
       "      <td>4</td>\n",
       "      <td>0</td>\n",
       "      <td>3</td>\n",
       "      <td>6</td>\n",
       "      <td>0</td>\n",
       "      <td>0</td>\n",
       "      <td>...</td>\n",
       "      <td>0</td>\n",
       "      <td>0</td>\n",
       "      <td>0</td>\n",
       "      <td>0</td>\n",
       "      <td>0</td>\n",
       "      <td>1</td>\n",
       "      <td>0</td>\n",
       "      <td>0</td>\n",
       "      <td>0</td>\n",
       "      <td>0</td>\n",
       "    </tr>\n",
       "    <tr>\n",
       "      <th>3</th>\n",
       "      <td>3</td>\n",
       "      <td>17</td>\n",
       "      <td>682</td>\n",
       "      <td>0</td>\n",
       "      <td>1</td>\n",
       "      <td>0</td>\n",
       "      <td>0</td>\n",
       "      <td>8</td>\n",
       "      <td>17</td>\n",
       "      <td>0</td>\n",
       "      <td>...</td>\n",
       "      <td>0</td>\n",
       "      <td>0</td>\n",
       "      <td>0</td>\n",
       "      <td>0</td>\n",
       "      <td>0</td>\n",
       "      <td>1</td>\n",
       "      <td>0</td>\n",
       "      <td>0</td>\n",
       "      <td>0</td>\n",
       "      <td>0</td>\n",
       "    </tr>\n",
       "    <tr>\n",
       "      <th>4</th>\n",
       "      <td>4</td>\n",
       "      <td>1</td>\n",
       "      <td>540</td>\n",
       "      <td>0</td>\n",
       "      <td>2</td>\n",
       "      <td>0</td>\n",
       "      <td>1</td>\n",
       "      <td>7</td>\n",
       "      <td>1</td>\n",
       "      <td>0</td>\n",
       "      <td>...</td>\n",
       "      <td>0</td>\n",
       "      <td>0</td>\n",
       "      <td>0</td>\n",
       "      <td>0</td>\n",
       "      <td>0</td>\n",
       "      <td>1</td>\n",
       "      <td>0</td>\n",
       "      <td>0</td>\n",
       "      <td>0</td>\n",
       "      <td>0</td>\n",
       "    </tr>\n",
       "  </tbody>\n",
       "</table>\n",
       "<p>5 rows × 152 columns</p>\n",
       "</div>"
      ],
      "text/plain": [
       "   index  col_0  col_1  col_2  col_3  col_4  col_5  col_6  col_7  col_8  ...  \\\n",
       "0      0      9   1354      0     18      0      1      7      9      0  ...   \n",
       "1      1      0    239      0      1      0      1      0      0      0  ...   \n",
       "2      2      0    260      0      4      0      3      6      0      0  ...   \n",
       "3      3     17    682      0      1      0      0      8     17      0  ...   \n",
       "4      4      1    540      0      2      0      1      7      1      0  ...   \n",
       "\n",
       "   c73  c74  c78  c79  c83  c88  c91  c92  c94  c95  \n",
       "0    0    0    0    0    0    1    0    0    0    0  \n",
       "1    0    1    0    0    1    1    1    1    0    0  \n",
       "2    0    0    0    0    0    1    0    0    0    0  \n",
       "3    0    0    0    0    0    1    0    0    0    0  \n",
       "4    0    0    0    0    0    1    0    0    0    0  \n",
       "\n",
       "[5 rows x 152 columns]"
      ]
     },
     "execution_count": 14,
     "metadata": {},
     "output_type": "execute_result"
    }
   ],
   "source": [
    "data.head()"
   ]
  },
  {
   "cell_type": "markdown",
   "id": "de9d65f8",
   "metadata": {
    "papermill": {
     "duration": 0.040209,
     "end_time": "2021-08-10T18:54:14.627926",
     "exception": false,
     "start_time": "2021-08-10T18:54:14.587717",
     "status": "completed"
    },
    "tags": []
   },
   "source": [
    "<a id='9'></a>\n",
    "# Modelling"
   ]
  },
  {
   "cell_type": "code",
   "execution_count": 15,
   "id": "9e0fe9e2",
   "metadata": {
    "execution": {
     "iopub.execute_input": "2021-08-10T18:54:14.713367Z",
     "iopub.status.busy": "2021-08-10T18:54:14.712698Z",
     "iopub.status.idle": "2021-08-10T18:54:14.883511Z",
     "shell.execute_reply": "2021-08-10T18:54:14.882927Z",
     "shell.execute_reply.started": "2021-08-10T17:52:25.508763Z"
    },
    "papermill": {
     "duration": 0.215344,
     "end_time": "2021-08-10T18:54:14.883651",
     "exception": false,
     "start_time": "2021-08-10T18:54:14.668307",
     "status": "completed"
    },
    "tags": []
   },
   "outputs": [],
   "source": [
    "from sklearn.model_selection import train_test_split"
   ]
  },
  {
   "cell_type": "code",
   "execution_count": 16,
   "id": "62a8231d",
   "metadata": {
    "execution": {
     "iopub.execute_input": "2021-08-10T18:54:14.972637Z",
     "iopub.status.busy": "2021-08-10T18:54:14.971124Z",
     "iopub.status.idle": "2021-08-10T18:54:15.005870Z",
     "shell.execute_reply": "2021-08-10T18:54:15.005320Z",
     "shell.execute_reply.started": "2021-08-10T17:52:25.515616Z"
    },
    "papermill": {
     "duration": 0.081241,
     "end_time": "2021-08-10T18:54:15.006041",
     "exception": false,
     "start_time": "2021-08-10T18:54:14.924800",
     "status": "completed"
    },
    "tags": []
   },
   "outputs": [],
   "source": [
    "X = data.drop(['targets'],axis=1)\n",
    "y= data.targets"
   ]
  },
  {
   "cell_type": "code",
   "execution_count": 17,
   "id": "1d9226b3",
   "metadata": {
    "execution": {
     "iopub.execute_input": "2021-08-10T18:54:15.092845Z",
     "iopub.status.busy": "2021-08-10T18:54:15.091881Z",
     "iopub.status.idle": "2021-08-10T18:54:15.119635Z",
     "shell.execute_reply": "2021-08-10T18:54:15.120172Z",
     "shell.execute_reply.started": "2021-08-10T17:52:25.566476Z"
    },
    "papermill": {
     "duration": 0.074193,
     "end_time": "2021-08-10T18:54:15.120362",
     "exception": false,
     "start_time": "2021-08-10T18:54:15.046169",
     "status": "completed"
    },
    "tags": []
   },
   "outputs": [],
   "source": [
    "X_train, X_test, y_train, y_test = train_test_split(X,\n",
    "                                                    y,\n",
    "                                                    test_size=0.3,\n",
    "                                                    random_state=42)"
   ]
  },
  {
   "cell_type": "markdown",
   "id": "aab35ad1",
   "metadata": {
    "papermill": {
     "duration": 0.040458,
     "end_time": "2021-08-10T18:54:15.201077",
     "exception": false,
     "start_time": "2021-08-10T18:54:15.160619",
     "status": "completed"
    },
    "tags": []
   },
   "source": [
    "<a id='10'></a>\n",
    "## Scaling"
   ]
  },
  {
   "cell_type": "code",
   "execution_count": 18,
   "id": "39740ba9",
   "metadata": {
    "execution": {
     "iopub.execute_input": "2021-08-10T18:54:15.284665Z",
     "iopub.status.busy": "2021-08-10T18:54:15.283687Z",
     "iopub.status.idle": "2021-08-10T18:54:15.287152Z",
     "shell.execute_reply": "2021-08-10T18:54:15.287617Z",
     "shell.execute_reply.started": "2021-08-10T18:40:26.876467Z"
    },
    "papermill": {
     "duration": 0.046505,
     "end_time": "2021-08-10T18:54:15.287789",
     "exception": false,
     "start_time": "2021-08-10T18:54:15.241284",
     "status": "completed"
    },
    "tags": []
   },
   "outputs": [],
   "source": [
    "#from sklearn.preprocessing import StandardScaler"
   ]
  },
  {
   "cell_type": "code",
   "execution_count": 19,
   "id": "bb0901f4",
   "metadata": {
    "execution": {
     "iopub.execute_input": "2021-08-10T18:54:15.371620Z",
     "iopub.status.busy": "2021-08-10T18:54:15.370691Z",
     "iopub.status.idle": "2021-08-10T18:54:15.374017Z",
     "shell.execute_reply": "2021-08-10T18:54:15.374464Z",
     "shell.execute_reply.started": "2021-08-10T17:52:25.614537Z"
    },
    "papermill": {
     "duration": 0.046659,
     "end_time": "2021-08-10T18:54:15.374630",
     "exception": false,
     "start_time": "2021-08-10T18:54:15.327971",
     "status": "completed"
    },
    "tags": []
   },
   "outputs": [],
   "source": [
    "# scaler = StandardScaler()\n",
    "# scaler.fit(X_train)\n",
    "# X_train_scaled = scaler.transform(X_train)\n",
    "# X_test_scaled = scaler.transform(X_test)"
   ]
  },
  {
   "cell_type": "markdown",
   "id": "c76c908d",
   "metadata": {
    "papermill": {
     "duration": 0.040228,
     "end_time": "2021-08-10T18:54:15.455163",
     "exception": false,
     "start_time": "2021-08-10T18:54:15.414935",
     "status": "completed"
    },
    "tags": []
   },
   "source": [
    "<a id='11'></a>\n",
    "## Parameters"
   ]
  },
  {
   "cell_type": "code",
   "execution_count": 20,
   "id": "52065e54",
   "metadata": {
    "execution": {
     "iopub.execute_input": "2021-08-10T18:54:15.540594Z",
     "iopub.status.busy": "2021-08-10T18:54:15.539644Z",
     "iopub.status.idle": "2021-08-10T18:54:15.731185Z",
     "shell.execute_reply": "2021-08-10T18:54:15.731674Z",
     "shell.execute_reply.started": "2021-08-10T17:52:25.628239Z"
    },
    "papermill": {
     "duration": 0.235539,
     "end_time": "2021-08-10T18:54:15.731855",
     "exception": false,
     "start_time": "2021-08-10T18:54:15.496316",
     "status": "completed"
    },
    "tags": []
   },
   "outputs": [],
   "source": [
    "from sklearn.ensemble import RandomForestClassifier, GradientBoostingClassifier\n",
    "from sklearn.linear_model import LogisticRegression\n",
    "from sklearn.neighbors import KNeighborsClassifier\n",
    "from sklearn.naive_bayes import GaussianNB\n",
    "\n",
    "        \n",
    "knn_params = {'n_neighbors':np.arange(1,50)}\n",
    "\n",
    "nb_params = {'var_smoothing': np.logspace(0,-9, num=100)}\n",
    "\n",
    "rf_params =  {'max_features':[1,3,10],\n",
    "              'min_samples_split':[2,3,10],\n",
    "              'min_samples_leaf':[1,3,10],\n",
    "              'bootstrap':[False],\n",
    "              'n_estimators':[100,300],\n",
    "              'criterion':['gini']}\n",
    "\n",
    "gb_params = {'learning_rate':[0.001,0.01,0.1,0.05],\n",
    "            'n_estimators':[100,500,100],\n",
    "            'max_depth':[3,5,10],\n",
    "            'min_samples_split':[2,5,10]\n",
    "    \n",
    "}\n",
    "\n",
    "param = [rf_params,knn_params,nb_params,gb_params]"
   ]
  },
  {
   "cell_type": "markdown",
   "id": "7bb5bdc1",
   "metadata": {
    "papermill": {
     "duration": 0.039616,
     "end_time": "2021-08-10T18:54:15.811991",
     "exception": false,
     "start_time": "2021-08-10T18:54:15.772375",
     "status": "completed"
    },
    "tags": []
   },
   "source": [
    "<a id='12'></a>\n",
    "## Classifiers"
   ]
  },
  {
   "cell_type": "code",
   "execution_count": 21,
   "id": "1cd2d337",
   "metadata": {
    "execution": {
     "iopub.execute_input": "2021-08-10T18:54:15.896373Z",
     "iopub.status.busy": "2021-08-10T18:54:15.895372Z",
     "iopub.status.idle": "2021-08-10T18:54:15.899739Z",
     "shell.execute_reply": "2021-08-10T18:54:15.900271Z",
     "shell.execute_reply.started": "2021-08-10T17:52:25.641941Z"
    },
    "papermill": {
     "duration": 0.048182,
     "end_time": "2021-08-10T18:54:15.900449",
     "exception": false,
     "start_time": "2021-08-10T18:54:15.852267",
     "status": "completed"
    },
    "tags": []
   },
   "outputs": [],
   "source": [
    "classifier = [RandomForestClassifier(),\n",
    "              KNeighborsClassifier(),\n",
    "              GaussianNB(),\n",
    "              GradientBoostingClassifier()\n",
    "             ]\n",
    "\n",
    "ml_list = ['Random Forest','KNN','Naive Bayes','GradientBoosting']"
   ]
  },
  {
   "cell_type": "markdown",
   "id": "34e0a483",
   "metadata": {
    "papermill": {
     "duration": 0.040128,
     "end_time": "2021-08-10T18:54:15.981120",
     "exception": false,
     "start_time": "2021-08-10T18:54:15.940992",
     "status": "completed"
    },
    "tags": []
   },
   "source": [
    "<a id='13'></a>\n",
    "## Grid Search Cross Validation and K-Fold"
   ]
  },
  {
   "cell_type": "code",
   "execution_count": 22,
   "id": "8535cb68",
   "metadata": {
    "execution": {
     "iopub.execute_input": "2021-08-10T18:54:16.066015Z",
     "iopub.status.busy": "2021-08-10T18:54:16.065028Z",
     "iopub.status.idle": "2021-08-10T19:36:40.648067Z",
     "shell.execute_reply": "2021-08-10T19:36:40.648621Z",
     "shell.execute_reply.started": "2021-08-10T17:52:25.656044Z"
    },
    "papermill": {
     "duration": 2544.627171,
     "end_time": "2021-08-10T19:36:40.649009",
     "exception": false,
     "start_time": "2021-08-10T18:54:16.021838",
     "status": "completed"
    },
    "tags": []
   },
   "outputs": [
    {
     "name": "stdout",
     "output_type": "stream",
     "text": [
      "Fitting 5 folds for each of 54 candidates, totalling 270 fits\n"
     ]
    },
    {
     "name": "stderr",
     "output_type": "stream",
     "text": [
      "[Parallel(n_jobs=-1)]: Using backend LokyBackend with 4 concurrent workers.\n",
      "[Parallel(n_jobs=-1)]: Done  42 tasks      | elapsed:   34.3s\n",
      "[Parallel(n_jobs=-1)]: Done 192 tasks      | elapsed:  2.3min\n",
      "[Parallel(n_jobs=-1)]: Done 270 out of 270 | elapsed:  4.0min finished\n"
     ]
    },
    {
     "name": "stdout",
     "output_type": "stream",
     "text": [
      "Method: RandomForestClassifier()  Score: 0.9999990686099188 Best: RandomForestClassifier(bootstrap=False, max_features=10)\n",
      "Fitting 5 folds for each of 49 candidates, totalling 245 fits\n"
     ]
    },
    {
     "name": "stderr",
     "output_type": "stream",
     "text": [
      "[Parallel(n_jobs=-1)]: Using backend LokyBackend with 4 concurrent workers.\n",
      "[Parallel(n_jobs=-1)]: Done  42 tasks      | elapsed:   15.7s\n",
      "[Parallel(n_jobs=-1)]: Done 192 tasks      | elapsed:  1.3min\n",
      "[Parallel(n_jobs=-1)]: Done 245 out of 245 | elapsed:  1.7min finished\n"
     ]
    },
    {
     "name": "stdout",
     "output_type": "stream",
     "text": [
      "Method: KNeighborsClassifier()  Score: 0.9992900398160499 Best: KNeighborsClassifier(n_neighbors=20)\n",
      "Fitting 5 folds for each of 100 candidates, totalling 500 fits\n"
     ]
    },
    {
     "name": "stderr",
     "output_type": "stream",
     "text": [
      "[Parallel(n_jobs=-1)]: Using backend LokyBackend with 4 concurrent workers.\n",
      "[Parallel(n_jobs=-1)]: Done  76 tasks      | elapsed:    1.8s\n",
      "[Parallel(n_jobs=-1)]: Done 376 tasks      | elapsed:    8.2s\n",
      "[Parallel(n_jobs=-1)]: Done 493 out of 500 | elapsed:   10.7s remaining:    0.2s\n",
      "[Parallel(n_jobs=-1)]: Done 500 out of 500 | elapsed:   10.8s finished\n"
     ]
    },
    {
     "name": "stdout",
     "output_type": "stream",
     "text": [
      "Method: GaussianNB()  Score: 0.9934626888896227 Best: GaussianNB(var_smoothing=1.2328467394420658e-05)\n",
      "Fitting 5 folds for each of 108 candidates, totalling 540 fits\n"
     ]
    },
    {
     "name": "stderr",
     "output_type": "stream",
     "text": [
      "[Parallel(n_jobs=-1)]: Using backend LokyBackend with 4 concurrent workers.\n",
      "[Parallel(n_jobs=-1)]: Done  42 tasks      | elapsed:  2.5min\n",
      "[Parallel(n_jobs=-1)]: Done 192 tasks      | elapsed: 12.5min\n",
      "[Parallel(n_jobs=-1)]: Done 442 tasks      | elapsed: 29.4min\n",
      "[Parallel(n_jobs=-1)]: Done 540 out of 540 | elapsed: 36.4min finished\n"
     ]
    },
    {
     "name": "stdout",
     "output_type": "stream",
     "text": [
      "Method: GradientBoostingClassifier()  Score: 1.0 Best: GradientBoostingClassifier(learning_rate=0.001)\n"
     ]
    }
   ],
   "source": [
    "from sklearn.model_selection import RandomizedSearchCV, GridSearchCV\n",
    "from sklearn.model_selection import StratifiedKFold\n",
    "from sklearn.metrics import roc_auc_score, accuracy_score\n",
    "\n",
    "\n",
    "cv_results = []\n",
    "best_estimators = []\n",
    "\n",
    "for i in range(len(classifier)):\n",
    "    clf = GridSearchCV(classifier[i],\n",
    "                            param_grid=[param[i]],\n",
    "                            cv = StratifiedKFold(n_splits=5),\n",
    "                            scoring = 'roc_auc',\n",
    "                             n_jobs= -1,\n",
    "                             verbose = 1\n",
    "                        \n",
    "                            )\n",
    "    clf.fit(X_train,y_train)\n",
    "    cv_results.append(clf.best_score_)\n",
    "    best_estimators.append(clf.best_estimator_)\n",
    "    print('Method: {}  Score: {} Best: {}' .format(classifier[i],cv_results[i],clf.best_estimator_))\n",
    "    \n",
    "results = pd.DataFrame({'CV Means':cv_results,\n",
    "                       'ML Models':ml_list})"
   ]
  },
  {
   "cell_type": "markdown",
   "id": "eca1e6a6",
   "metadata": {
    "papermill": {
     "duration": 0.048229,
     "end_time": "2021-08-10T19:36:40.744778",
     "exception": false,
     "start_time": "2021-08-10T19:36:40.696549",
     "status": "completed"
    },
    "tags": []
   },
   "source": [
    "<a id='14'></a>\n",
    "## Visualization"
   ]
  },
  {
   "cell_type": "code",
   "execution_count": 23,
   "id": "22a4cb00",
   "metadata": {
    "execution": {
     "iopub.execute_input": "2021-08-10T19:36:40.866951Z",
     "iopub.status.busy": "2021-08-10T19:36:40.865870Z",
     "iopub.status.idle": "2021-08-10T19:36:41.000151Z",
     "shell.execute_reply": "2021-08-10T19:36:40.999129Z",
     "shell.execute_reply.started": "2021-08-10T18:38:06.130756Z"
    },
    "papermill": {
     "duration": 0.20607,
     "end_time": "2021-08-10T19:36:41.000329",
     "exception": false,
     "start_time": "2021-08-10T19:36:40.794259",
     "status": "completed"
    },
    "tags": []
   },
   "outputs": [
    {
     "data": {
      "image/png": "[encoded data removed]",
      "text/plain": [
       "<Figure size 432x288 with 1 Axes>"
      ]
     },
     "metadata": {
      "needs_background": "light"
     },
     "output_type": "display_data"
    }
   ],
   "source": [
    "import seaborn as sns\n",
    "import matplotlib.pyplot as plt\n",
    "\n",
    "g = sns.barplot('CV Means','ML Models',data=results)\n",
    "g.set_title('ROC-AUC Score')\n",
    "plt.show()"
   ]
  },
  {
   "cell_type": "markdown",
   "id": "4a457a04",
   "metadata": {
    "papermill": {
     "duration": 0.048635,
     "end_time": "2021-08-10T19:36:41.097309",
     "exception": false,
     "start_time": "2021-08-10T19:36:41.048674",
     "status": "completed"
    },
    "tags": []
   },
   "source": [
    "<a id='15'></a>\n",
    "## Prediction"
   ]
  },
  {
   "cell_type": "code",
   "execution_count": 24,
   "id": "1edbf5df",
   "metadata": {
    "execution": {
     "iopub.execute_input": "2021-08-10T19:36:41.200694Z",
     "iopub.status.busy": "2021-08-10T19:36:41.199690Z",
     "iopub.status.idle": "2021-08-10T19:36:48.767647Z",
     "shell.execute_reply": "2021-08-10T19:36:48.767019Z",
     "shell.execute_reply.started": "2021-08-10T18:39:16.320139Z"
    },
    "papermill": {
     "duration": 7.622478,
     "end_time": "2021-08-10T19:36:48.767812",
     "exception": false,
     "start_time": "2021-08-10T19:36:41.145334",
     "status": "completed"
    },
    "tags": []
   },
   "outputs": [
    {
     "name": "stdout",
     "output_type": "stream",
     "text": [
      "0.995114802149487\n"
     ]
    }
   ],
   "source": [
    "from sklearn.ensemble import VotingClassifier\n",
    "voting_c = VotingClassifier(estimators=[('rf',best_estimators[0]),\n",
    "                                        ('knn',best_estimators[1]),\n",
    "                                        ('nb',best_estimators[2]),\n",
    "                                        ('gb',best_estimators[3])\n",
    "                                       ],\n",
    "                           voting='soft',\n",
    "                           n_jobs=-1)\n",
    "\n",
    "voting_c = voting_c.fit(X_train,y_train)\n",
    "my_score = accuracy_score(voting_c.predict(X_test),y_test)\n",
    "print(my_score)"
   ]
  }
 ],
 "metadata": {
  "kernelspec": {
   "display_name": "Python 3",
   "language": "python",
   "name": "python3"
  },
  "language_info": {
   "codemirror_mode": {
    "name": "ipython",
    "version": 3
   },
   "file_extension": ".py",
   "mimetype": "text/x-python",
   "name": "python",
   "nbconvert_exporter": "python",
   "pygments_lexer": "ipython3",
   "version": "3.7.10"
  },
  "papermill": {
   "default_parameters": {},
   "duration": 2624.554116,
   "end_time": "2021-08-10T19:36:50.331309",
   "environment_variables": {},
   "exception": null,
   "input_path": "__notebook__.ipynb",
   "output_path": "__notebook__.ipynb",
   "parameters": {},
   "start_time": "2021-08-10T18:53:05.777193",
   "version": "2.3.3"
  }
 },
 "nbformat": 4,
 "nbformat_minor": 5
}
